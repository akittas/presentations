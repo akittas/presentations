{
 "cells": [
  {
   "cell_type": "markdown",
   "metadata": {
    "slideshow": {
     "slide_type": "slide"
    }
   },
   "source": [
    "#  The Tao of Python\n",
    "## The intricate relationship between \"object\" and \"type\" and how metaclasses, classes and instances are related\n",
    "<img src=\"figures/yin_yang.png\" style=\"display:block;margin:auto;width:60%;\"/>"
   ]
  },
  {
   "cell_type": "markdown",
   "metadata": {
    "slideshow": {
     "slide_type": "slide"
    }
   },
   "source": [
    "# Contents of this talk\n",
    "* Object-oriented relationships\n",
    "* Relationship rules\n",
    "* What is a Python object?\n",
    "* Classes as objects\n",
    "* Metaclasses\n",
    "* What is `type`?\n",
    "* What is `object`?\n",
    "* How are `type` and `object` related?\n",
    "* The Python objects map\n",
    "\n",
    "Most of this talk is based on [this article](http://www.cafepy.com/article/python_types_and_objects/python_types_and_objects.html) by Shalabh Chaturvedi."
   ]
  },
  {
   "cell_type": "markdown",
   "metadata": {
    "slideshow": {
     "slide_type": "slide"
    }
   },
   "source": [
    "# Why is this talk useful?\n",
    "* Actually it's not terribly useful\n",
    "* Deep understanding of the Python object model\n",
    "* Clarification of the role and behavior of classes, metaclasses and instances\n",
    "* Appreciation of the language on different level\n",
    "* Zen-like satisfying moment of understanding\n",
    "* Bragging rights :D"
   ]
  },
  {
   "cell_type": "markdown",
   "metadata": {
    "slideshow": {
     "slide_type": "slide"
    }
   },
   "source": [
    "# Object-oriented relationships\n",
    "While we introduce many different objects, we only use two kinds of relationships:\n",
    "1. ***is a kind of*** (solid line): Also known as **specialization** or **inheritance**, this relationship exists between two objects when one (the subclass) is a specialized version of the other (the superclass). A snake is *a kind of* reptile. It has all the traits of a reptile and some specific traits which identify a snake. Terms used: *subclass of*, *superclass of*, *superclass-subclass* or simply *is a*.\n",
    "2. ***is an instance of*** (dashed line): Also known as **instantiation**, this relationship exists between two objects when one (the instance) is a concrete example of what the other specifies (the type). I have a pet snake named Squasher. Squasher is an instance of a snake. Terms used: *instance of*, *type of*."
   ]
  },
  {
   "cell_type": "markdown",
   "metadata": {
    "slideshow": {
     "slide_type": "slide"
    }
   },
   "source": [
    "<img src=\"figures/oo_relationships.png\" style=\"display:block;margin:auto;width:90%;\"/>"
   ]
  },
  {
   "cell_type": "markdown",
   "metadata": {
    "slideshow": {
     "slide_type": "slide"
    }
   },
   "source": [
    "# Relationship rules\n",
    "1. If A is a subclass of B, and B is a subclass of C, then A is a subclass of C.\n",
    "2. If X is an instance of A, and A is a subclass of B, then X is an instance of B.\n",
    "3. If B is an instance of M, and A is a subclass of B, then A is an instance of M. "
   ]
  },
  {
   "cell_type": "markdown",
   "metadata": {
    "slideshow": {
     "slide_type": "slide"
    }
   },
   "source": [
    "<img src=\"figures/rules_123.png\" style=\"display:block;margin:auto;width:90%;\"/>"
   ]
  },
  {
   "cell_type": "markdown",
   "metadata": {
    "slideshow": {
     "slide_type": "slide"
    }
   },
   "source": [
    "# What is a Python object?\n",
    "An object is an entity with the following characteristic properties:\n",
    "1. *Identity* (i.e. given two names we can say for sure if they refer to one and the same object, or not).\n",
    "2. A *value* - which may include a bunch of attributes (i.e. we can reach other objects through ```objectname.attributename```).\n",
    "3. A *type* - every object has exactly one *type*. For instance, the object ```2``` has a type ```int``` and the object ```\"joe\"``` has a type ```str```.\n",
    "4. One or more *bases*. A base is similar to a super-class or base-class in object-oriented lingo."
   ]
  },
  {
   "cell_type": "code",
   "execution_count": 1,
   "metadata": {
    "collapsed": false,
    "scrolled": true,
    "slideshow": {
     "slide_type": "slide"
    }
   },
   "outputs": [
    {
     "name": "stdout",
     "output_type": "stream",
     "text": [
      "<class 'int'>\n"
     ]
    }
   ],
   "source": [
    "two = 2\n",
    "print(type(two))"
   ]
  },
  {
   "cell_type": "code",
   "execution_count": 2,
   "metadata": {
    "collapsed": false,
    "slideshow": {
     "slide_type": "fragment"
    }
   },
   "outputs": [
    {
     "name": "stdout",
     "output_type": "stream",
     "text": [
      "<class 'type'>\n"
     ]
    }
   ],
   "source": [
    "print(type(type(two)))"
   ]
  },
  {
   "cell_type": "code",
   "execution_count": 3,
   "metadata": {
    "collapsed": false,
    "slideshow": {
     "slide_type": "fragment"
    }
   },
   "outputs": [
    {
     "name": "stdout",
     "output_type": "stream",
     "text": [
      "(<class 'object'>,)\n"
     ]
    }
   ],
   "source": [
    "print(type(two).__bases__)"
   ]
  },
  {
   "cell_type": "code",
   "execution_count": 4,
   "metadata": {
    "collapsed": false,
    "slideshow": {
     "slide_type": "fragment"
    }
   },
   "outputs": [
    {
     "name": "stdout",
     "output_type": "stream",
     "text": [
      "['__abs__', '__add__', '__and__', '__bool__', '__ceil__', '__class__', '__delattr__', '__dir__', '__divmod__', '__doc__', '__eq__', '__float__', '__floor__', '__floordiv__', '__format__', '__ge__', '__getattribute__', '__getnewargs__', '__gt__', '__hash__', '__index__', '__init__', '__init_subclass__', '__int__', '__invert__', '__le__', '__lshift__', '__lt__', '__mod__', '__mul__', '__ne__', '__neg__', '__new__', '__or__', '__pos__', '__pow__', '__radd__', '__rand__', '__rdivmod__', '__reduce__', '__reduce_ex__', '__repr__', '__rfloordiv__', '__rlshift__', '__rmod__', '__rmul__', '__ror__', '__round__', '__rpow__', '__rrshift__', '__rshift__', '__rsub__', '__rtruediv__', '__rxor__', '__setattr__', '__sizeof__', '__str__', '__sub__', '__subclasshook__', '__truediv__', '__trunc__', '__xor__', 'bit_length', 'conjugate', 'denominator', 'from_bytes', 'imag', 'numerator', 'real', 'to_bytes']\n"
     ]
    }
   ],
   "source": [
    "print(dir(two))"
   ]
  },
  {
   "cell_type": "markdown",
   "metadata": {
    "slideshow": {
     "slide_type": "slide"
    }
   },
   "source": [
    "# Rule 1: Everything is an object\n",
    "And I mean **everything**. Even things that are \"primitive types\" in other languages.\n",
    "* You can store them in variables\n",
    "* You can pass them as parameters to functions\n",
    "* You can return them as the result of functions\n",
    "* You can construct them at runtime\n",
    "\n",
    "And more importantly: You can treat *every* programming construct in a **uniform** and **consistent** way"
   ]
  },
  {
   "cell_type": "markdown",
   "metadata": {
    "slideshow": {
     "slide_type": "slide"
    }
   },
   "source": [
    "# Functions as objects\n",
    "* When you use the keyword `def`, Python creates a function object.\n",
    "* Functions can be passed around as arguments to other functions.\n",
    "* These functions that take other functions as arguments are called **higher order functions**.\n",
    "* e.g. the `map` function takes a function and an iterable and applies the function to each item in the iterable."
   ]
  },
  {
   "cell_type": "markdown",
   "metadata": {
    "slideshow": {
     "slide_type": "slide"
    }
   },
   "source": [
    "# Classes as objects\n",
    "1. When you use the keyword ```class```, Python executes it and creates an object.\n",
    "2. This object (the *class*) is itself capable of **creating objects** (the *instances*), and this is why it's a class.\n",
    "3. Since classes are objects, they must be generated by something, this is *metaclasses*.\n",
    "4. Since metaclasses are also objects, they must also be generated by something, this is **again** *metaclasses*.\n",
    "\n",
    "Therefore: Objects are instances of classes, classes are instances of metaclasses and metaclasses are instances of themselves."
   ]
  },
  {
   "cell_type": "markdown",
   "metadata": {
    "slideshow": {
     "slide_type": "slide"
    }
   },
   "source": [
    "# Metaclasses (these are objects too!)\n",
    "1. Metaclasses are the \"stuff\" that creates classes.\n",
    "2. You define classes in order to create objects, right?\n",
    "3. We learned that Python classes are objects.\n",
    "4. Well, metaclasses are what creates these objects. They are the classes' classes, you can picture them this way:\n",
    "    - `MyClass = MetaClass()`\n",
    "    - `MyObject = MyClass()`\n",
    "\n",
    ">Metaclasses are deeper magic than 99% of users should ever worry about. If you wonder whether you need them, you don’t (the people who actually need them know with certainty that they need them, and don’t need an explanation about why). **Tim Peters**"
   ]
  },
  {
   "cell_type": "markdown",
   "metadata": {
    "slideshow": {
     "slide_type": "slide"
    }
   },
   "source": [
    "# What is `type`?\n",
    "1. Remember the function `type`? The good old function that lets you know what type an object is.\n",
    "2. `type` can also create classes on the fly. `type` can take the description of a class as parameters, and return a class as `type(name, bases, dct)`.\n",
    "    - `name` is a string giving the name of the class to be constructed.\n",
    "    - `bases` is a tuple giving the parent classes of the class to be constructed.\n",
    "    - `dct` is a dictionary of the attributes and methods of the class to be constructed.\n",
    "3. Why the heck is it written in lowercase, and not `Type`? Consistency with `str`, the class that creates strings objects, and `int` the class that creates integer objects. `type` is just the class that creates `class` objects."
   ]
  },
  {
   "cell_type": "code",
   "execution_count": 5,
   "metadata": {
    "collapsed": false,
    "scrolled": true,
    "slideshow": {
     "slide_type": "slide"
    }
   },
   "outputs": [
    {
     "name": "stdout",
     "output_type": "stream",
     "text": [
      "<class '__main__.A'>\n",
      "<class 'type'>\n",
      "(<class 'object'>,)\n"
     ]
    }
   ],
   "source": [
    "class A:\n",
    "    pass\n",
    "a = A()\n",
    "print(type(a))\n",
    "print(type(A))\n",
    "print(A.__bases__)"
   ]
  },
  {
   "cell_type": "code",
   "execution_count": 6,
   "metadata": {
    "collapsed": false,
    "scrolled": true,
    "slideshow": {
     "slide_type": "fragment"
    }
   },
   "outputs": [
    {
     "name": "stdout",
     "output_type": "stream",
     "text": [
      "<class '__main__.A'>\n",
      "<class 'type'>\n",
      "(<class 'object'>,)\n",
      "True True True\n"
     ]
    }
   ],
   "source": [
    "A = type('A', (), {})\n",
    "a = A()\n",
    "print(type(a))\n",
    "print(type(A))\n",
    "print(A.__bases__)\n",
    "print(isinstance(a, A), isinstance(a, object), issubclass(A, object))"
   ]
  },
  {
   "cell_type": "code",
   "execution_count": 7,
   "metadata": {
    "collapsed": false,
    "scrolled": true,
    "slideshow": {
     "slide_type": "fragment"
    }
   },
   "outputs": [
    {
     "name": "stdout",
     "output_type": "stream",
     "text": [
      "<class 'function'>\n",
      "<class 'type'>\n",
      "(<class 'object'>,)\n",
      "My name is f.\n"
     ]
    }
   ],
   "source": [
    "def f():\n",
    "    \"\"\"My name is f.\"\"\"\n",
    "    pass\n",
    "print(type(f))\n",
    "print(type(type(f)))\n",
    "print(type(f).__bases__)\n",
    "print(f.__doc__)"
   ]
  },
  {
   "cell_type": "markdown",
   "metadata": {
    "slideshow": {
     "slide_type": "slide"
    }
   },
   "source": [
    "# The power of `type`\n",
    "1. Everything is an object in Python, and they are all either instances of classes or instances of metaclasses.\n",
    "2. `type` is the metaclass Python uses to create (i.e. *instantiate*) all classes and metaclasses, **including** `type` itself.\n",
    "3. `type` is actually its own metaclass. This is not something you could reproduce in pure Python, and is done by cheating a little bit at the implementation level."
   ]
  },
  {
   "cell_type": "markdown",
   "metadata": {
    "slideshow": {
     "slide_type": "fragment"
    }
   },
   "source": [
    "<img src=\"figures/type_thug.jpg\" style=\"display:block;margin:auto;width:40%;\"/>"
   ]
  },
  {
   "cell_type": "markdown",
   "metadata": {
    "slideshow": {
     "slide_type": "slide"
    }
   },
   "source": [
    "# What is `object`?\n",
    "1. `object` is the class that **all** classes inherit from.\n",
    "2. All classes **including** `object` are subclasses of themselves.\n",
    "3. All classes **including** `object` are subclasses of `object`. `object.__bases__` is an empty tuple.\n",
    "4. All classes **except** `object` will have `object` in `__bases__` in a class in their inheritance hierarchy."
   ]
  },
  {
   "cell_type": "markdown",
   "metadata": {
    "slideshow": {
     "slide_type": "slide"
    }
   },
   "source": [
    "# Kinds of objects\n",
    "\n",
    "* There are two kinds of objects in Python:\n",
    "    1. *Type objects* - can create instances, can be subclassed. e.g. `type`, `object`, `int`, `str`, `list`.\n",
    "    2. *Non-type objects* - cannot create instances, cannot be subclassed. e.g. `1`, `\"hello\"`, `[1, 2, 3]`.\n",
    "* `type` and `object` are two primitive objects of the system.\n",
    "* `objectname.__class__` exists for every object and points the type of the object.\n",
    "* `objectname.__bases__` exists for every type object and points the superclasses of the object. It is empty only for `object`."
   ]
  },
  {
   "cell_type": "markdown",
   "metadata": {
    "slideshow": {
     "slide_type": "slide"
    }
   },
   "source": [
    "<img src=\"figures/women_objects.jpg\" style=\"display:block;margin:auto;width:50%;\"/>"
   ]
  },
  {
   "cell_type": "markdown",
   "metadata": {
    "slideshow": {
     "slide_type": "slide"
    }
   },
   "source": [
    "# Recap\n",
    "1. All classes and metaclasses **including** `object` are *subclasses* of `object`.\n",
    "2. All classes and metaclasses **including** `type` are *instances* of `type`.\n",
    "3. All objects **including** `object` are *instances* of `object`."
   ]
  },
  {
   "cell_type": "code",
   "execution_count": 8,
   "metadata": {
    "collapsed": false,
    "scrolled": true,
    "slideshow": {
     "slide_type": "slide"
    }
   },
   "outputs": [
    {
     "data": {
      "text/plain": [
       "True"
      ]
     },
     "execution_count": 8,
     "metadata": {},
     "output_type": "execute_result"
    }
   ],
   "source": [
    "issubclass(type, object) # Recap rule #1"
   ]
  },
  {
   "cell_type": "code",
   "execution_count": 9,
   "metadata": {
    "collapsed": false,
    "scrolled": true,
    "slideshow": {
     "slide_type": "-"
    }
   },
   "outputs": [
    {
     "data": {
      "text/plain": [
       "True"
      ]
     },
     "execution_count": 9,
     "metadata": {},
     "output_type": "execute_result"
    }
   ],
   "source": [
    "issubclass(object, object) # Recap rule #1"
   ]
  },
  {
   "cell_type": "code",
   "execution_count": 10,
   "metadata": {
    "collapsed": false,
    "scrolled": true,
    "slideshow": {
     "slide_type": "-"
    }
   },
   "outputs": [
    {
     "data": {
      "text/plain": [
       "False"
      ]
     },
     "execution_count": 10,
     "metadata": {},
     "output_type": "execute_result"
    }
   ],
   "source": [
    "issubclass(object, type) # Recap rule #1"
   ]
  },
  {
   "cell_type": "code",
   "execution_count": 11,
   "metadata": {
    "collapsed": false,
    "scrolled": true,
    "slideshow": {
     "slide_type": "-"
    }
   },
   "outputs": [
    {
     "data": {
      "text/plain": [
       "True"
      ]
     },
     "execution_count": 11,
     "metadata": {},
     "output_type": "execute_result"
    }
   ],
   "source": [
    "isinstance(object, type) # Recap rule #2"
   ]
  },
  {
   "cell_type": "code",
   "execution_count": 12,
   "metadata": {
    "collapsed": false,
    "scrolled": true,
    "slideshow": {
     "slide_type": "-"
    }
   },
   "outputs": [
    {
     "data": {
      "text/plain": [
       "True"
      ]
     },
     "execution_count": 12,
     "metadata": {},
     "output_type": "execute_result"
    }
   ],
   "source": [
    "isinstance(type, type) # Recap rule #2"
   ]
  },
  {
   "cell_type": "code",
   "execution_count": 13,
   "metadata": {
    "collapsed": false,
    "scrolled": true,
    "slideshow": {
     "slide_type": "-"
    }
   },
   "outputs": [
    {
     "data": {
      "text/plain": [
       "True"
      ]
     },
     "execution_count": 13,
     "metadata": {},
     "output_type": "execute_result"
    }
   ],
   "source": [
    "isinstance(type, object) # Recap rule #3"
   ]
  },
  {
   "cell_type": "code",
   "execution_count": 14,
   "metadata": {
    "collapsed": false,
    "slideshow": {
     "slide_type": "-"
    }
   },
   "outputs": [
    {
     "data": {
      "text/plain": [
       "True"
      ]
     },
     "execution_count": 14,
     "metadata": {},
     "output_type": "execute_result"
    }
   ],
   "source": [
    "isinstance(object, object) # Recap rule #3"
   ]
  },
  {
   "cell_type": "markdown",
   "metadata": {
    "slideshow": {
     "slide_type": "slide"
    }
   },
   "source": [
    "<img src=\"figures/dafuq.jpg\" style=\"display:block;margin:auto;width:50%;\"/>"
   ]
  },
  {
   "cell_type": "markdown",
   "metadata": {
    "slideshow": {
     "slide_type": "slide"
    }
   },
   "source": [
    "<img src=\"figures/rules_objtype1.png\" style=\"display:block;margin:auto;width:60%;\"/>"
   ]
  },
  {
   "cell_type": "markdown",
   "metadata": {
    "slideshow": {
     "slide_type": "slide"
    }
   },
   "source": [
    "<img src=\"figures/rules_objtype2.png\" style=\"display:block;margin:auto;width:60%;\"/>"
   ]
  },
  {
   "cell_type": "markdown",
   "metadata": {
    "slideshow": {
     "slide_type": "slide"
    }
   },
   "source": [
    "<img src=\"figures/rules_objtype3.png\" style=\"display:block;margin:auto;width:60%;\"/>"
   ]
  },
  {
   "cell_type": "markdown",
   "metadata": {
    "slideshow": {
     "slide_type": "slide"
    }
   },
   "source": [
    "<img src=\"figures/rules_objtype4.png\" style=\"display:block;margin:auto;width:60%;\"/>"
   ]
  },
  {
   "cell_type": "markdown",
   "metadata": {
    "slideshow": {
     "slide_type": "slide"
    }
   },
   "source": [
    "<img src=\"figures/rules_objtype_final.png\" style=\"display:block;margin:auto;width:80%;\"/>"
   ]
  },
  {
   "cell_type": "code",
   "execution_count": 15,
   "metadata": {
    "collapsed": false,
    "slideshow": {
     "slide_type": "fragment"
    }
   },
   "outputs": [
    {
     "data": {
      "text/html": [
       "<img src=\"figures/mind_blown.gif\" width=\"400\"/>"
      ],
      "text/plain": [
       "<IPython.core.display.Image object>"
      ]
     },
     "metadata": {},
     "output_type": "display_data"
    }
   ],
   "source": [
    "from IPython.display import Image, display\n",
    "display(Image(url='figures/mind_blown.gif', width=400))"
   ]
  },
  {
   "cell_type": "markdown",
   "metadata": {
    "slideshow": {
     "slide_type": "slide"
    }
   },
   "source": [
    "# The Python Objects Map\n",
    "<img src=\"figures/types_map.png\" style=\"display:block;margin:auto;width:80%;\"/>"
   ]
  },
  {
   "cell_type": "markdown",
   "metadata": {
    "slideshow": {
     "slide_type": "slide"
    }
   },
   "source": [
    "# Rant: JavaScript\n",
    "<img src=\"figures/js_fuckthis.png\" style=\"display:block;margin:auto;width:80%;\"/>\n",
    "<img src=\"figures/js_properoo.png\" style=\"display:block;margin:auto;width:80%;\"/>"
   ]
  },
  {
   "cell_type": "markdown",
   "metadata": {
    "slideshow": {
     "slide_type": "slide"
    }
   },
   "source": [
    "# Rant: Ruby\n",
    ">Ruby inherited the Perl philosophy of having more than one way to do the same thing. I inherited that philosophy from Larry Wall, who is my hero actually. Y. Matsumoto, creator of Ruby.  \n",
    "\n",
    ">Matz chose to sacrifice first-class functions *just* so he could make parentheses **optional**.  \n",
    "\n",
    ">Methods are a fundamental part of Ruby's syntax, but they are not values that Ruby programs can operate on. That is, **Ruby's methods are not objects** in the way that strings, numbers, and arrays are. From [The Ruby Programming Language Book](https://www.amazon.com/Ruby-Programming-Language-Everything-Need/dp/0596516177).  \n",
    "\n",
    "<img src=\"figures/rb_hipster.jpg\" style=\"display:block;margin:auto;width:100%;\"/>"
   ]
  },
  {
   "cell_type": "markdown",
   "metadata": {
    "slideshow": {
     "slide_type": "slide"
    }
   },
   "source": [
    "# References\n",
    "1. [Shalabh Chaturvedi - Python Types and Objects](http://www.cafepy.com/article/python_types_and_objects/python_types_and_objects.html)\n",
    "* [StackOverflow - What is a metaclass in Python?](http://stackoverflow.com/questions/100003/what-is-a-metaclass-in-python)\n",
    "* [All about metaclasses in Python](https://pythontips.com/2013/09/20/all-about-the-metaclasses-in-python/)\n"
   ]
  },
  {
   "cell_type": "markdown",
   "metadata": {
    "slideshow": {
     "slide_type": "slide"
    }
   },
   "source": [
    "# Thank you!\n",
    "<img src=\"figures/universe_python.png\" style=\"display:block;margin:auto;width:80%;\"/>"
   ]
  }
 ],
 "metadata": {
  "celltoolbar": "Slideshow",
  "kernelspec": {
   "display_name": "Python 3",
   "language": "python",
   "name": "python3"
  },
  "language_info": {
   "codemirror_mode": {
    "name": "ipython",
    "version": 3
   },
   "file_extension": ".py",
   "mimetype": "text/x-python",
   "name": "python",
   "nbconvert_exporter": "python",
   "pygments_lexer": "ipython3",
   "version": "3.6.4"
  }
 },
 "nbformat": 4,
 "nbformat_minor": 2
}
